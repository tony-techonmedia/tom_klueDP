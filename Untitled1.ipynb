{
 "cells": [
  {
   "cell_type": "code",
   "execution_count": 1,
   "id": "303c1b85",
   "metadata": {},
   "outputs": [
    {
     "name": "stderr",
     "output_type": "stream",
     "text": [
      "/root/anaconda3/envs/py3.7KLUE/lib/python3.7/site-packages/pytorch_lightning/utilities/distributed.py:49: UserWarning: MetricBase will save all targets and predictions in buffer. For large datasets this may lead to large memory footprint.\n",
      "  warnings.warn(*args, **kwargs)\n"
     ]
    }
   ],
   "source": [
    "from klue_baseline.models import DPTransformer\n",
    "from klue_baseline.data import KlueDPProcessor, KlueDataModule\n",
    "from klue_baseline.data.klue_dp import KlueDPDataModule\n",
    "from transformers import AutoTokenizer\n",
    "import torch, csv"
   ]
  },
  {
   "cell_type": "code",
   "execution_count": null,
   "id": "7182e60d",
   "metadata": {},
   "outputs": [],
   "source": [
    "class DPResult:\n",
    "    \"\"\"Result object for Dependency Parsing\"\"\"\n",
    "\n",
    "    def __init__(self, heads: torch.Tensor, types: torch.Tensor) -> None:\n",
    "        self.heads = heads\n",
    "        self.types = types"
   ]
  },
  {
   "cell_type": "code",
   "execution_count": null,
   "id": "1875e6a8",
   "metadata": {},
   "outputs": [],
   "source": [
    "def dp(args):\n",
    "    model = DPTransformer(args)\n",
    "    device = torch.device('cuda')\n",
    "    state_dict = torch.load(args.ckpt, map_location=device)\n",
    "    model.load_state_dict(state_dict['state_dict'])\n",
    "    model = model.to(device)\n",
    "    \n",
    "    tokenizer = AutoTokenizer.from_pretrained(\n",
    "        args.tokenizer_name if args.tokenizer_name else args.model_name_or_path)\n",
    "    processor = KlueDPProcessor(args, tokenizer)\n",
    "    data_module = KlueDPDataModule(args, processor)\n",
    "    \n",
    "    dataloader = data_module.get_dataloader('test', batch_size=32)\n",
    "    \n",
    "    prs = []\n",
    "    gts = []\n",
    "    with torch.no_grad():\n",
    "        model.eval()\n",
    "        for i, data in tqdm(enumerate(dataloader)):\n",
    "\n",
    "            input_ids, masks, ids, max_word_length = data\n",
    "            attention_mask, bpe_head_mask, bpe_tail_mask, mask_e, mask_d = masks\n",
    "            head_ids, type_ids, pos_ids = ids\n",
    "            inputs = {\"input_ids\": input_ids.cuda(), \"attention_mask\": attention_mask.cuda()}\n",
    "\n",
    "            batch_index = torch.arange(0, head_ids.size()[0]).long().cuda()\n",
    "\n",
    "            out_arc, out_type = model.forward(\n",
    "                bpe_head_mask.cuda(),\n",
    "                bpe_tail_mask.cuda(),\n",
    "                pos_ids.cuda(),\n",
    "                head_ids.cuda(),\n",
    "                max_word_length,\n",
    "                mask_e.cuda(),\n",
    "                mask_d.cuda(),\n",
    "                batch_index.cuda(),\n",
    "                is_training=False,\n",
    "                **inputs,\n",
    "            )\n",
    "\n",
    "            # predict arc and its type\n",
    "            heads = torch.argmax(out_arc, dim=2)\n",
    "            types = torch.argmax(out_type, dim=2)\n",
    "\n",
    "            preds = DPResult(heads, types)\n",
    "            labels = DPResult(head_ids, type_ids)\n",
    "\n",
    "            prs.append(preds)\n",
    "            gts.append(labels)\n",
    "\n",
    "        model.write_prediction_file(prs,gts)\n",
    "        \n",
    "    \n"
   ]
  },
  {
   "cell_type": "code",
   "execution_count": null,
   "id": "caf2db52",
   "metadata": {},
   "outputs": [],
   "source": []
  },
  {
   "cell_type": "code",
   "execution_count": null,
   "id": "2135fe50",
   "metadata": {},
   "outputs": [],
   "source": []
  }
 ],
 "metadata": {
  "kernelspec": {
   "display_name": "KLUE",
   "language": "python",
   "name": "py3.7klue"
  },
  "language_info": {
   "codemirror_mode": {
    "name": "ipython",
    "version": 3
   },
   "file_extension": ".py",
   "mimetype": "text/x-python",
   "name": "python",
   "nbconvert_exporter": "python",
   "pygments_lexer": "ipython3",
   "version": "3.7.11"
  }
 },
 "nbformat": 4,
 "nbformat_minor": 5
}
